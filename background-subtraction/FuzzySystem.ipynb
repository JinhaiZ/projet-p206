{
 "cells": [
  {
   "cell_type": "code",
   "execution_count": 32,
   "metadata": {},
   "outputs": [
    {
     "name": "stdout",
     "output_type": "stream",
     "text": [
      "0.38311812673651285\n"
     ]
    }
   ],
   "source": [
    "import numpy as np\n",
    "import skfuzzy as fuzz\n",
    "from skfuzzy import control as ctrl\n",
    "\n",
    "# New Antecedent/Consequent objects hold universe variables and membership\n",
    "# functions\n",
    "f1 = ctrl.Antecedent(np.arange(0, 1.05, 0.05), 'Average of the generated background(F1)')\n",
    "f2 = ctrl.Antecedent(np.arange(0, 1.05, 0.05), 'Sum of difference values between backgroud and input image(F2)')\n",
    "p = ctrl.Consequent(np.arange(0, 1.05, 0.05), 'Output optimal threshold(p)')\n",
    "\n",
    "# Custom membership functions can be built interactively with a familiar,\n",
    "# Pythonic API\n",
    "f1['Low'] = fuzz.trimf(f1.universe, [0, 0, 0.4])\n",
    "f1['Medium'] = fuzz.trimf(f1.universe, [0.3, 0.5, 0.7])\n",
    "f1['High'] = fuzz.trimf(f1.universe, [0.6, 1, 1])\n",
    "\n",
    "#f1.view()\n",
    "\n",
    "f2['Low'] = fuzz.trimf(f2.universe, [0.0, 0.0, 0.65])\n",
    "f2['High'] = fuzz.trimf(f2.universe, [0.35, 1, 1])\n",
    "\n",
    "#f2.view()\n",
    "\n",
    "p['Very Low'] = fuzz.trapmf(p.universe, [0, 0, 0.1, 0.2])\n",
    "p['Low'] = fuzz.trimf(p.universe, [0.15, 0.25, 0.35])\n",
    "p['Medium'] = fuzz.trimf(p.universe, [0.3, 0.4, 0.5])\n",
    "p['High'] = fuzz.trimf(p.universe, [0.45, 0.55, 0.65])\n",
    "p['Very High'] = fuzz.trapmf(p.universe, [0.6, 0.7, 1, 1])\n",
    "\n",
    "#p.view()\n",
    "# You can see how these look with .view()\n",
    "rule1 = ctrl.Rule(f1['Low'] & f2['Low'], p['Low'])\n",
    "rule2 = ctrl.Rule(f1['Low'] & f2['High'], p['Very High'])\n",
    "rule3 = ctrl.Rule(f1['Medium'] & f2['Low'], p['Medium'])\n",
    "rule4 = ctrl.Rule(f1['Medium'] & f2['High'], p['Medium'])\n",
    "rule5 = ctrl.Rule(f1['High'] & f2['Low'], p['High'])\n",
    "rule6 = ctrl.Rule(f1['High'] & f2['High'], p['Very Low'])\n",
    "\n",
    "\n",
    "threshold_ctrl = ctrl.ControlSystem([rule1, rule2, rule3, rule4, rule5, rule6])\n",
    "\n",
    "threshold = ctrl.ControlSystemSimulation(threshold_ctrl)\n",
    "threshold.input['Average of the generated background(F1)'] = 0.65\n",
    "threshold.input['Sum of difference values between backgroud and input image(F2)'] = 0.4\n",
    "\n",
    "# Crunch the numbers\n",
    "threshold.compute()\n",
    "\n",
    "print threshold.output['Output optimal threshold(p)']\n",
    "#p.view(sim=threshold)"
   ]
  }
 ],
 "metadata": {
  "kernelspec": {
   "display_name": "Python 2",
   "language": "python",
   "name": "python2"
  },
  "language_info": {
   "codemirror_mode": {
    "name": "ipython",
    "version": 2
   },
   "file_extension": ".py",
   "mimetype": "text/x-python",
   "name": "python",
   "nbconvert_exporter": "python",
   "pygments_lexer": "ipython2",
   "version": "2.7.14"
  }
 },
 "nbformat": 4,
 "nbformat_minor": 2
}
